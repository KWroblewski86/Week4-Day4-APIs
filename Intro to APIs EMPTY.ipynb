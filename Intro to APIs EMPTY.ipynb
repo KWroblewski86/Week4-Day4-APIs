{
 "cells": [
  {
   "cell_type": "markdown",
   "id": "7196054f",
   "metadata": {},
   "source": [
    "# Working with APIs"
   ]
  },
  {
   "cell_type": "markdown",
   "id": "0547b71e",
   "metadata": {},
   "source": [
    "API stands for Application programming interface<br>\n",
    "APIs are a way for applications to talk to eachother<br>\n",
    "In python we use the requests package to handle the connection<br>\n",
    "<small><strong>Note: It is requests with an s not request(this is a different package)</strong></small><br>\n",
    "Most API's communicate with data in the form of JSON<br>\n",
    "JSON stands for JavaScript Object Notation"
   ]
  },
  {
   "cell_type": "code",
   "execution_count": 9,
   "id": "4db9d154",
   "metadata": {},
   "outputs": [],
   "source": [
    "#import the packages we need:\n",
    "import requests as r\n"
   ]
  },
  {
   "cell_type": "markdown",
   "id": "e8c2ce51",
   "metadata": {},
   "source": [
    "We will be connecting to the Ergast F1 Racer API today:\n",
    "http://ergast.com/mrd/\n",
    "\n",
    "to view JSON data nicely in the Chrome browser install the extension JSONview"
   ]
  },
  {
   "cell_type": "code",
   "execution_count": 11,
   "id": "52c440c6",
   "metadata": {},
   "outputs": [],
   "source": [
    "# help(requests)"
   ]
  },
  {
   "cell_type": "code",
   "execution_count": 12,
   "id": "f60c1b4a",
   "metadata": {},
   "outputs": [
    {
     "name": "stdout",
     "output_type": "stream",
     "text": [
      "<Response [200]>\n"
     ]
    }
   ],
   "source": [
    "response = r.get('https://ergast.com/api/f1/2022/5/driverStandings.json')\n",
    "print(response)\n"
   ]
  },
  {
   "cell_type": "code",
   "execution_count": 13,
   "id": "7b63a204",
   "metadata": {},
   "outputs": [
    {
     "data": {
      "text/plain": [
       "True"
      ]
     },
     "execution_count": 13,
     "metadata": {},
     "output_type": "execute_result"
    }
   ],
   "source": [
    "#response object\n",
    "response.ok"
   ]
  },
  {
   "cell_type": "code",
   "execution_count": 14,
   "id": "c6d1fdaf",
   "metadata": {},
   "outputs": [
    {
     "name": "stdout",
     "output_type": "stream",
     "text": [
      "{'MRData': {'xmlns': 'http://ergast.com/mrd/1.5', 'series': 'f1', 'url': 'http://ergast.com/api/f1/2022/5/driverstandings.json', 'limit': '30', 'offset': '0', 'total': '21', 'StandingsTable': {'season': '2022', 'round': '5', 'StandingsLists': [{'season': '2022', 'round': '5', 'DriverStandings': [{'position': '1', 'positionText': '1', 'points': '104', 'wins': '2', 'Driver': {'driverId': 'leclerc', 'permanentNumber': '16', 'code': 'LEC', 'url': 'http://en.wikipedia.org/wiki/Charles_Leclerc', 'givenName': 'Charles', 'familyName': 'Leclerc', 'dateOfBirth': '1997-10-16', 'nationality': 'Monegasque'}, 'Constructors': [{'constructorId': 'ferrari', 'url': 'http://en.wikipedia.org/wiki/Scuderia_Ferrari', 'name': 'Ferrari', 'nationality': 'Italian'}]}, {'position': '2', 'positionText': '2', 'points': '85', 'wins': '3', 'Driver': {'driverId': 'max_verstappen', 'permanentNumber': '33', 'code': 'VER', 'url': 'http://en.wikipedia.org/wiki/Max_Verstappen', 'givenName': 'Max', 'familyName': 'Verstappen', 'dateOfBirth': '1997-09-30', 'nationality': 'Dutch'}, 'Constructors': [{'constructorId': 'red_bull', 'url': 'http://en.wikipedia.org/wiki/Red_Bull_Racing', 'name': 'Red Bull', 'nationality': 'Austrian'}]}, {'position': '3', 'positionText': '3', 'points': '66', 'wins': '0', 'Driver': {'driverId': 'perez', 'permanentNumber': '11', 'code': 'PER', 'url': 'http://en.wikipedia.org/wiki/Sergio_P%C3%A9rez', 'givenName': 'Sergio', 'familyName': 'Pérez', 'dateOfBirth': '1990-01-26', 'nationality': 'Mexican'}, 'Constructors': [{'constructorId': 'red_bull', 'url': 'http://en.wikipedia.org/wiki/Red_Bull_Racing', 'name': 'Red Bull', 'nationality': 'Austrian'}]}, {'position': '4', 'positionText': '4', 'points': '59', 'wins': '0', 'Driver': {'driverId': 'russell', 'permanentNumber': '63', 'code': 'RUS', 'url': 'http://en.wikipedia.org/wiki/George_Russell_%28racing_driver%29', 'givenName': 'George', 'familyName': 'Russell', 'dateOfBirth': '1998-02-15', 'nationality': 'British'}, 'Constructors': [{'constructorId': 'mercedes', 'url': 'http://en.wikipedia.org/wiki/Mercedes-Benz_in_Formula_One', 'name': 'Mercedes', 'nationality': 'German'}]}, {'position': '5', 'positionText': '5', 'points': '53', 'wins': '0', 'Driver': {'driverId': 'sainz', 'permanentNumber': '55', 'code': 'SAI', 'url': 'http://en.wikipedia.org/wiki/Carlos_Sainz_Jr.', 'givenName': 'Carlos', 'familyName': 'Sainz', 'dateOfBirth': '1994-09-01', 'nationality': 'Spanish'}, 'Constructors': [{'constructorId': 'ferrari', 'url': 'http://en.wikipedia.org/wiki/Scuderia_Ferrari', 'name': 'Ferrari', 'nationality': 'Italian'}]}, {'position': '6', 'positionText': '6', 'points': '36', 'wins': '0', 'Driver': {'driverId': 'hamilton', 'permanentNumber': '44', 'code': 'HAM', 'url': 'http://en.wikipedia.org/wiki/Lewis_Hamilton', 'givenName': 'Lewis', 'familyName': 'Hamilton', 'dateOfBirth': '1985-01-07', 'nationality': 'British'}, 'Constructors': [{'constructorId': 'mercedes', 'url': 'http://en.wikipedia.org/wiki/Mercedes-Benz_in_Formula_One', 'name': 'Mercedes', 'nationality': 'German'}]}, {'position': '7', 'positionText': '7', 'points': '35', 'wins': '0', 'Driver': {'driverId': 'norris', 'permanentNumber': '4', 'code': 'NOR', 'url': 'http://en.wikipedia.org/wiki/Lando_Norris', 'givenName': 'Lando', 'familyName': 'Norris', 'dateOfBirth': '1999-11-13', 'nationality': 'British'}, 'Constructors': [{'constructorId': 'mclaren', 'url': 'http://en.wikipedia.org/wiki/McLaren', 'name': 'McLaren', 'nationality': 'British'}]}, {'position': '8', 'positionText': '8', 'points': '30', 'wins': '0', 'Driver': {'driverId': 'bottas', 'permanentNumber': '77', 'code': 'BOT', 'url': 'http://en.wikipedia.org/wiki/Valtteri_Bottas', 'givenName': 'Valtteri', 'familyName': 'Bottas', 'dateOfBirth': '1989-08-28', 'nationality': 'Finnish'}, 'Constructors': [{'constructorId': 'alfa', 'url': 'http://en.wikipedia.org/wiki/Alfa_Romeo_in_Formula_One', 'name': 'Alfa Romeo', 'nationality': 'Swiss'}]}, {'position': '9', 'positionText': '9', 'points': '24', 'wins': '0', 'Driver': {'driverId': 'ocon', 'permanentNumber': '31', 'code': 'OCO', 'url': 'http://en.wikipedia.org/wiki/Esteban_Ocon', 'givenName': 'Esteban', 'familyName': 'Ocon', 'dateOfBirth': '1996-09-17', 'nationality': 'French'}, 'Constructors': [{'constructorId': 'alpine', 'url': 'http://en.wikipedia.org/wiki/Alpine_F1_Team', 'name': 'Alpine F1 Team', 'nationality': 'French'}]}, {'position': '10', 'positionText': '10', 'points': '15', 'wins': '0', 'Driver': {'driverId': 'kevin_magnussen', 'permanentNumber': '20', 'code': 'MAG', 'url': 'http://en.wikipedia.org/wiki/Kevin_Magnussen', 'givenName': 'Kevin', 'familyName': 'Magnussen', 'dateOfBirth': '1992-10-05', 'nationality': 'Danish'}, 'Constructors': [{'constructorId': 'haas', 'url': 'http://en.wikipedia.org/wiki/Haas_F1_Team', 'name': 'Haas F1 Team', 'nationality': 'American'}]}, {'position': '11', 'positionText': '11', 'points': '11', 'wins': '0', 'Driver': {'driverId': 'ricciardo', 'permanentNumber': '3', 'code': 'RIC', 'url': 'http://en.wikipedia.org/wiki/Daniel_Ricciardo', 'givenName': 'Daniel', 'familyName': 'Ricciardo', 'dateOfBirth': '1989-07-01', 'nationality': 'Australian'}, 'Constructors': [{'constructorId': 'mclaren', 'url': 'http://en.wikipedia.org/wiki/McLaren', 'name': 'McLaren', 'nationality': 'British'}]}, {'position': '12', 'positionText': '12', 'points': '10', 'wins': '0', 'Driver': {'driverId': 'tsunoda', 'permanentNumber': '22', 'code': 'TSU', 'url': 'http://en.wikipedia.org/wiki/Yuki_Tsunoda', 'givenName': 'Yuki', 'familyName': 'Tsunoda', 'dateOfBirth': '2000-05-11', 'nationality': 'Japanese'}, 'Constructors': [{'constructorId': 'alphatauri', 'url': 'http://en.wikipedia.org/wiki/Scuderia_AlphaTauri', 'name': 'AlphaTauri', 'nationality': 'Italian'}]}, {'position': '13', 'positionText': '13', 'points': '6', 'wins': '0', 'Driver': {'driverId': 'gasly', 'permanentNumber': '10', 'code': 'GAS', 'url': 'http://en.wikipedia.org/wiki/Pierre_Gasly', 'givenName': 'Pierre', 'familyName': 'Gasly', 'dateOfBirth': '1996-02-07', 'nationality': 'French'}, 'Constructors': [{'constructorId': 'alphatauri', 'url': 'http://en.wikipedia.org/wiki/Scuderia_AlphaTauri', 'name': 'AlphaTauri', 'nationality': 'Italian'}]}, {'position': '14', 'positionText': '14', 'points': '4', 'wins': '0', 'Driver': {'driverId': 'vettel', 'permanentNumber': '5', 'code': 'VET', 'url': 'http://en.wikipedia.org/wiki/Sebastian_Vettel', 'givenName': 'Sebastian', 'familyName': 'Vettel', 'dateOfBirth': '1987-07-03', 'nationality': 'German'}, 'Constructors': [{'constructorId': 'aston_martin', 'url': 'http://en.wikipedia.org/wiki/Aston_Martin_in_Formula_One', 'name': 'Aston Martin', 'nationality': 'British'}]}, {'position': '15', 'positionText': '15', 'points': '3', 'wins': '0', 'Driver': {'driverId': 'albon', 'permanentNumber': '23', 'code': 'ALB', 'url': 'http://en.wikipedia.org/wiki/Alexander_Albon', 'givenName': 'Alexander', 'familyName': 'Albon', 'dateOfBirth': '1996-03-23', 'nationality': 'Thai'}, 'Constructors': [{'constructorId': 'williams', 'url': 'http://en.wikipedia.org/wiki/Williams_Grand_Prix_Engineering', 'name': 'Williams', 'nationality': 'British'}]}, {'position': '16', 'positionText': '16', 'points': '2', 'wins': '0', 'Driver': {'driverId': 'alonso', 'permanentNumber': '14', 'code': 'ALO', 'url': 'http://en.wikipedia.org/wiki/Fernando_Alonso', 'givenName': 'Fernando', 'familyName': 'Alonso', 'dateOfBirth': '1981-07-29', 'nationality': 'Spanish'}, 'Constructors': [{'constructorId': 'alpine', 'url': 'http://en.wikipedia.org/wiki/Alpine_F1_Team', 'name': 'Alpine F1 Team', 'nationality': 'French'}]}, {'position': '17', 'positionText': '17', 'points': '2', 'wins': '0', 'Driver': {'driverId': 'stroll', 'permanentNumber': '18', 'code': 'STR', 'url': 'http://en.wikipedia.org/wiki/Lance_Stroll', 'givenName': 'Lance', 'familyName': 'Stroll', 'dateOfBirth': '1998-10-29', 'nationality': 'Canadian'}, 'Constructors': [{'constructorId': 'aston_martin', 'url': 'http://en.wikipedia.org/wiki/Aston_Martin_in_Formula_One', 'name': 'Aston Martin', 'nationality': 'British'}]}, {'position': '18', 'positionText': '18', 'points': '1', 'wins': '0', 'Driver': {'driverId': 'zhou', 'permanentNumber': '24', 'code': 'ZHO', 'url': 'http://en.wikipedia.org/wiki/Guanyu_Zhou', 'givenName': 'Guanyu', 'familyName': 'Zhou', 'dateOfBirth': '1999-05-30', 'nationality': 'Chinese'}, 'Constructors': [{'constructorId': 'alfa', 'url': 'http://en.wikipedia.org/wiki/Alfa_Romeo_in_Formula_One', 'name': 'Alfa Romeo', 'nationality': 'Swiss'}]}, {'position': '19', 'positionText': '19', 'points': '0', 'wins': '0', 'Driver': {'driverId': 'mick_schumacher', 'permanentNumber': '47', 'code': 'MSC', 'url': 'http://en.wikipedia.org/wiki/Mick_Schumacher', 'givenName': 'Mick', 'familyName': 'Schumacher', 'dateOfBirth': '1999-03-22', 'nationality': 'German'}, 'Constructors': [{'constructorId': 'haas', 'url': 'http://en.wikipedia.org/wiki/Haas_F1_Team', 'name': 'Haas F1 Team', 'nationality': 'American'}]}, {'position': '20', 'positionText': '20', 'points': '0', 'wins': '0', 'Driver': {'driverId': 'hulkenberg', 'permanentNumber': '27', 'code': 'HUL', 'url': 'http://en.wikipedia.org/wiki/Nico_H%C3%BClkenberg', 'givenName': 'Nico', 'familyName': 'Hülkenberg', 'dateOfBirth': '1987-08-19', 'nationality': 'German'}, 'Constructors': [{'constructorId': 'aston_martin', 'url': 'http://en.wikipedia.org/wiki/Aston_Martin_in_Formula_One', 'name': 'Aston Martin', 'nationality': 'British'}]}, {'position': '21', 'positionText': '21', 'points': '0', 'wins': '0', 'Driver': {'driverId': 'latifi', 'permanentNumber': '6', 'code': 'LAT', 'url': 'http://en.wikipedia.org/wiki/Nicholas_Latifi', 'givenName': 'Nicholas', 'familyName': 'Latifi', 'dateOfBirth': '1995-06-29', 'nationality': 'Canadian'}, 'Constructors': [{'constructorId': 'williams', 'url': 'http://en.wikipedia.org/wiki/Williams_Grand_Prix_Engineering', 'name': 'Williams', 'nationality': 'British'}]}]}]}}}\n"
     ]
    }
   ],
   "source": [
    "#check and make sure we got a successful response from the API\n",
    "if response.ok:\n",
    "    data = response.json()\n",
    "    print(data)"
   ]
  },
  {
   "cell_type": "code",
   "execution_count": 4,
   "id": "ed4d3256",
   "metadata": {},
   "outputs": [],
   "source": [
    "#view the response as a JSON\n",
    "#see above"
   ]
  },
  {
   "cell_type": "code",
   "execution_count": null,
   "id": "92e6cd2c",
   "metadata": {},
   "outputs": [],
   "source": []
  },
  {
   "cell_type": "code",
   "execution_count": 15,
   "id": "f074dfcf",
   "metadata": {},
   "outputs": [
    {
     "name": "stdout",
     "output_type": "stream",
     "text": [
      "Charles Leclerc\n",
      "Max Verstappen\n",
      "Sergio Pérez\n",
      "George Russell\n",
      "Carlos Sainz\n",
      "Lewis Hamilton\n",
      "Lando Norris\n",
      "Valtteri Bottas\n",
      "Esteban Ocon\n",
      "Kevin Magnussen\n",
      "Daniel Ricciardo\n",
      "Yuki Tsunoda\n",
      "Pierre Gasly\n",
      "Sebastian Vettel\n",
      "Alexander Albon\n",
      "Fernando Alonso\n",
      "Lance Stroll\n",
      "Guanyu Zhou\n",
      "Mick Schumacher\n",
      "Nico Hülkenberg\n",
      "Nicholas Latifi\n"
     ]
    }
   ],
   "source": [
    "# We only want the Driver Standings\n",
    "\n",
    "standings = data['MRData']['StandingsTable']['StandingsLists'][0]['DriverStandings']\n",
    "for entry in standings:\n",
    "    name = f\"{entry['Driver']['givenName']} {entry['Driver']['familyName']}\"\n",
    "\n",
    "    print(name)"
   ]
  },
  {
   "cell_type": "code",
   "execution_count": 28,
   "id": "be46a950",
   "metadata": {},
   "outputs": [
    {
     "ename": "ValueError",
     "evalue": "too many values to unpack (expected 1)",
     "output_type": "error",
     "traceback": [
      "\u001b[1;31m---------------------------------------------------------------------------\u001b[0m",
      "\u001b[1;31mValueError\u001b[0m                                Traceback (most recent call last)",
      "Input \u001b[1;32mIn [28]\u001b[0m, in \u001b[0;36m<cell line: 17>\u001b[1;34m()\u001b[0m\n\u001b[0;32m     15\u001b[0m         \u001b[38;5;28;01mreturn\u001b[39;00m racer_dict\n\u001b[0;32m     16\u001b[0m     \u001b[38;5;28;01mreturn\u001b[39;00m \u001b[38;5;124m\"\u001b[39m\u001b[38;5;124mError. Invalid year/match combo\u001b[39m\u001b[38;5;124m\"\u001b[39m\n\u001b[1;32m---> 17\u001b[0m \u001b[43mgetRacerInfo\u001b[49m\u001b[43m(\u001b[49m\u001b[38;5;241;43m2020\u001b[39;49m\u001b[43m,\u001b[49m\u001b[43m \u001b[49m\u001b[38;5;241;43m1\u001b[39;49m\u001b[43m)\u001b[49m\n",
      "Input \u001b[1;32mIn [28]\u001b[0m, in \u001b[0;36mgetRacerInfo\u001b[1;34m(year, match)\u001b[0m\n\u001b[0;32m      8\u001b[0m     \u001b[38;5;28;01mfor\u001b[39;00m entry \u001b[38;5;129;01min\u001b[39;00m standings:\n\u001b[0;32m      9\u001b[0m         name \u001b[38;5;241m=\u001b[39m \u001b[38;5;124mf\u001b[39m\u001b[38;5;124m\"\u001b[39m\u001b[38;5;132;01m{\u001b[39;00mentry[\u001b[38;5;124m'\u001b[39m\u001b[38;5;124mDriver\u001b[39m\u001b[38;5;124m'\u001b[39m][\u001b[38;5;124m'\u001b[39m\u001b[38;5;124mgivenName\u001b[39m\u001b[38;5;124m'\u001b[39m]\u001b[38;5;132;01m}\u001b[39;00m\u001b[38;5;124m \u001b[39m\u001b[38;5;132;01m{\u001b[39;00mentry[\u001b[38;5;124m'\u001b[39m\u001b[38;5;124mDriver\u001b[39m\u001b[38;5;124m'\u001b[39m][\u001b[38;5;124m'\u001b[39m\u001b[38;5;124mfamilyName\u001b[39m\u001b[38;5;124m'\u001b[39m]\u001b[38;5;132;01m}\u001b[39;00m\u001b[38;5;124m\"\u001b[39m\n\u001b[1;32m---> 10\u001b[0m         racer_dict \u001b[38;5;241m=\u001b[39m [name] \u001b[38;5;241m=\u001b[39m {\n\u001b[0;32m     11\u001b[0m             \u001b[38;5;124m'\u001b[39m\u001b[38;5;124mposition\u001b[39m\u001b[38;5;124m'\u001b[39m: entry[\u001b[38;5;124m'\u001b[39m\u001b[38;5;124mposition\u001b[39m\u001b[38;5;124m'\u001b[39m],\n\u001b[0;32m     12\u001b[0m             \u001b[38;5;124m'\u001b[39m\u001b[38;5;124mteam\u001b[39m\u001b[38;5;124m'\u001b[39m: entry[\u001b[38;5;124m'\u001b[39m\u001b[38;5;124mConstructors\u001b[39m\u001b[38;5;124m'\u001b[39m][\u001b[38;5;241m0\u001b[39m][\u001b[38;5;124m'\u001b[39m\u001b[38;5;124mname\u001b[39m\u001b[38;5;124m'\u001b[39m]\n\u001b[0;32m     13\u001b[0m         }\n\u001b[0;32m     15\u001b[0m     \u001b[38;5;28;01mreturn\u001b[39;00m racer_dict\n\u001b[0;32m     16\u001b[0m \u001b[38;5;28;01mreturn\u001b[39;00m \u001b[38;5;124m\"\u001b[39m\u001b[38;5;124mError. Invalid year/match combo\u001b[39m\u001b[38;5;124m\"\u001b[39m\n",
      "\u001b[1;31mValueError\u001b[0m: too many values to unpack (expected 1)"
     ]
    }
   ],
   "source": [
    "def getRacerInfo(year, match):\n",
    "    url = f'https://ergast.com/api/f1/{year}/{match}/driverStandings.json'\n",
    "    response = r.get(url)\n",
    "    if response.ok:\n",
    "        my_dict = response.json()\n",
    "        racer_dict = {}\n",
    "        standings = my_dict['MRData']['StandingsTable']['StandingsLists'][0]['DriverStandings']\n",
    "        for entry in standings:\n",
    "            name = f\"{entry['Driver']['givenName']} {entry['Driver']['familyName']}\"\n",
    "            racer_dict = [name] = {\n",
    "                'position': entry['position'],\n",
    "                'team': entry['Constructors'][0]['name']\n",
    "            }\n",
    "            \n",
    "        return racer_dict\n",
    "    return \"Error. Invalid year/match combo\"\n",
    "getRacerInfo(2020, 1)"
   ]
  },
  {
   "cell_type": "code",
   "execution_count": 23,
   "id": "3740c752",
   "metadata": {},
   "outputs": [
    {
     "name": "stdout",
     "output_type": "stream",
     "text": [
      "What pokemon are you looking for? pikachu\n"
     ]
    },
    {
     "data": {
      "text/plain": [
       "<Response [200]>"
      ]
     },
     "execution_count": 23,
     "metadata": {},
     "output_type": "execute_result"
    }
   ],
   "source": [
    "name = input(\"What pokemon are you looking for? \")\n",
    "url = f'https://pokeapi.co/api/v2/pokemon/{name}'\n",
    "r.get(url)"
   ]
  },
  {
   "cell_type": "markdown",
   "id": "6d546014",
   "metadata": {},
   "source": [
    "# <strong>Homework</strong>\n",
    "check out this Pokemon API https://pokeapi.co/\n",
    "Use the requests package to connect to this API and get and store data for 5 different pokemon.\n",
    "Get the pokemons: name, atleast one ability's name, base_experience, and the URL for its sprite (an image that shows up on screen) for the 'front_shiny', attack base_state, hp base_stat, defense base_stat"
   ]
  },
  {
   "cell_type": "code",
   "execution_count": 66,
   "id": "5a9081e3",
   "metadata": {},
   "outputs": [
    {
     "ename": "NameError",
     "evalue": "name 'pikachu' is not defined",
     "output_type": "error",
     "traceback": [
      "\u001b[1;31m---------------------------------------------------------------------------\u001b[0m",
      "\u001b[1;31mNameError\u001b[0m                                 Traceback (most recent call last)",
      "Input \u001b[1;32mIn [66]\u001b[0m, in \u001b[0;36m<cell line: 12>\u001b[1;34m()\u001b[0m\n\u001b[0;32m      8\u001b[0m     \u001b[38;5;28;01mif\u001b[39;00m feedback\u001b[38;5;241m.\u001b[39mok:\n\u001b[0;32m      9\u001b[0m         data \u001b[38;5;241m=\u001b[39m feedback\u001b[38;5;241m.\u001b[39mjson()\n\u001b[1;32m---> 12\u001b[0m getPokemonInfo(\u001b[43mpikachu\u001b[49m)\n",
      "\u001b[1;31mNameError\u001b[0m: name 'pikachu' is not defined"
     ]
    }
   ],
   "source": [
    "import requests as r\n",
    "\n",
    "def getPokemonInfo(character):\n",
    "    url = 'https://pokeapi.co/'\n",
    "    name = input(\"What pokemon are you looking for? \")\n",
    "    url1 = f'(url)api/v2/pokemon/(name).json'\n",
    "    feedback = r.get(url1)\n",
    "    if feedback.ok:\n",
    "        data = feedback.json()\n",
    "\n",
    "\n",
    "getPokemonInfo(pikachu)\n",
    "\n",
    "\n",
    "\n",
    "\n",
    "    \n",
    "    \n"
   ]
  }
 ],
 "metadata": {
  "kernelspec": {
   "display_name": "Python 3 (ipykernel)",
   "language": "python",
   "name": "python3"
  },
  "language_info": {
   "codemirror_mode": {
    "name": "ipython",
    "version": 3
   },
   "file_extension": ".py",
   "mimetype": "text/x-python",
   "name": "python",
   "nbconvert_exporter": "python",
   "pygments_lexer": "ipython3",
   "version": "3.9.12"
  }
 },
 "nbformat": 4,
 "nbformat_minor": 5
}
